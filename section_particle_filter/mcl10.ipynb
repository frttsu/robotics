{
 "cells": [
  {
   "cell_type": "code",
   "execution_count": 1,
   "id": "0139b8b7",
   "metadata": {},
   "outputs": [],
   "source": [
    "import sys \n",
    "sys.path.append('../scripts/')\n",
    "from robot_edit import *\n",
    "from scipy.stats import multivariate_normal"
   ]
  },
  {
   "cell_type": "code",
   "execution_count": 2,
   "id": "c85bc636",
   "metadata": {},
   "outputs": [],
   "source": [
    "class Particle:  ###beforeimpllikelihood\n",
    "    def __init__(self, init_pose, weight):\n",
    "        self.pose = init_pose\n",
    "        self.weight = weight\n",
    "        \n",
    "    def motion_update(self, nu, omega, time, noise_rate_pdf): \n",
    "        ns = noise_rate_pdf.rvs()\n",
    "        pnu = nu + ns[0]*math.sqrt(abs(nu)/time) + ns[1]*math.sqrt(abs(omega)/time)\n",
    "        pomega = omega + ns[2]*math.sqrt(abs(nu)/time) + ns[3]*math.sqrt(abs(omega)/time)\n",
    "        self.pose = IdealRobot.state_transition(pnu, pomega, time, self.pose)\n",
    "        \n",
    "    def observation_update(self, observation, envmap, distance_dev_rate, direction_dev):  #変更\n",
    "        print(observation)"
   ]
  },
  {
   "cell_type": "code",
   "execution_count": 3,
   "id": "b51faa9b",
   "metadata": {},
   "outputs": [],
   "source": [
    "class Mcl:  ###recvmapmcl\n",
    "    def __init__(self, envmap, init_pose, num, motion_noise_stds={\"nn\":0.19, \"no\":0.001, \"on\":0.13, \"oo\":0.2}, \\\n",
    "                 distance_dev_rate=0.14, direction_dev=0.05):    #2行目でenvmapを追加、3行目で標準偏差を追加\n",
    "        self.particles = [Particle(init_pose, 1.0/num) for i in range(num)]\n",
    "        self.map = envmap  #以下3行追加\n",
    "        self.distance_dev_rate = distance_dev_rate\n",
    "        self.direction_dev = direction_dev\n",
    "\n",
    "        v = motion_noise_stds\n",
    "        c = np.diag([v[\"nn\"]**2, v[\"no\"]**2, v[\"on\"]**2, v[\"oo\"]**2])\n",
    "        self.motion_noise_rate_pdf = multivariate_normal(cov=c)\n",
    "        \n",
    "    def motion_update(self, nu, omega, time):\n",
    "        for p in self.particles: p.motion_update(nu, omega, time, self.motion_noise_rate_pdf)\n",
    "            \n",
    "    def observation_update(self, observation): \n",
    "        for p in self.particles: p.observation_update(observation, self.map, self.distance_dev_rate, self.direction_dev) #引数を追加\n",
    "        \n",
    "    def draw(self, ax, elems):         #次のように変更\n",
    "        xs = [p.pose[0] for p in self.particles]\n",
    "        ys = [p.pose[1] for p in self.particles]\n",
    "        vxs = [math.cos(p.pose[2])*p.weight*len(self.particles) for p in self.particles] #重みを要素に反映\n",
    "        vys = [math.sin(p.pose[2])*p.weight*len(self.particles) for p in self.particles]  #重みを要素に反映\n",
    "        elems.append(ax.quiver(xs, ys, vxs, vys, \\\n",
    "                               angles='xy', scale_units='xy', scale=1.5, color=\"blue\", alpha=0.5)) #変更"
   ]
  },
  {
   "cell_type": "code",
   "execution_count": 4,
   "id": "9125aa13",
   "metadata": {},
   "outputs": [],
   "source": [
    "class EstimationAgent(Agent):  ###recvmap (1-6行目) -> 不要に\n",
    "    def __init__(self, time_interval, nu, omega, estimator): \n",
    "        super().__init__(nu, omega)\n",
    "        self.estimator = estimator\n",
    "        self.time_interval = time_interval\n",
    "        \n",
    "        self.prev_nu = 0.0\n",
    "        self.prev_omega = 0.0\n",
    "        \n",
    "    def decision(self, observation=None): \n",
    "        self.estimator.motion_update(self.prev_nu, self.prev_omega, self.time_interval)\n",
    "        self.prev_nu, self.prev_omega = self.nu, self.omega\n",
    "        self.estimator.observation_update(observation)\n",
    "        return self.nu, self.omega\n",
    "        \n",
    "    def draw(self, ax, elems):\n",
    "        self.estimator.draw(ax, elems)\n"
   ]
  },
  {
   "cell_type": "code",
   "execution_count": 8,
   "id": "6c2ae2b9",
   "metadata": {},
   "outputs": [
    {
     "ename": "TypeError",
     "evalue": "'int' object is not subscriptable",
     "output_type": "error",
     "traceback": [
      "\u001b[0;31m---------------------------------------------------------------------------\u001b[0m",
      "\u001b[0;31mTypeError\u001b[0m                                 Traceback (most recent call last)",
      "Cell \u001b[0;32mIn[8], line 19\u001b[0m\n\u001b[1;32m     15\u001b[0m     world\u001b[38;5;241m.\u001b[39mappend(r)\n\u001b[1;32m     17\u001b[0m     world\u001b[38;5;241m.\u001b[39mdraw()\n\u001b[0;32m---> 19\u001b[0m \u001b[43mtrial\u001b[49m\u001b[43m(\u001b[49m\u001b[43m)\u001b[49m\n",
      "Cell \u001b[0;32mIn[8], line 17\u001b[0m, in \u001b[0;36mtrial\u001b[0;34m()\u001b[0m\n\u001b[1;32m     14\u001b[0m r \u001b[38;5;241m=\u001b[39m Robot(initial_pose, sensor\u001b[38;5;241m=\u001b[39mCamera(m), agent\u001b[38;5;241m=\u001b[39ma, color\u001b[38;5;241m=\u001b[39m\u001b[38;5;124m\"\u001b[39m\u001b[38;5;124mred\u001b[39m\u001b[38;5;124m\"\u001b[39m)\n\u001b[1;32m     15\u001b[0m world\u001b[38;5;241m.\u001b[39mappend(r)\n\u001b[0;32m---> 17\u001b[0m \u001b[43mworld\u001b[49m\u001b[38;5;241;43m.\u001b[39;49m\u001b[43mdraw\u001b[49m\u001b[43m(\u001b[49m\u001b[43m)\u001b[49m\n",
      "File \u001b[0;32m~/robotics/section_particle_filter/../scripts/ideal_robot_edit.py:43\u001b[0m, in \u001b[0;36mWorld.draw\u001b[0;34m(self)\u001b[0m\n\u001b[1;32m     40\u001b[0m elems \u001b[38;5;241m=\u001b[39m []\n\u001b[1;32m     42\u001b[0m \u001b[38;5;28;01mif\u001b[39;00m \u001b[38;5;28mself\u001b[39m\u001b[38;5;241m.\u001b[39mdebug:        \n\u001b[0;32m---> 43\u001b[0m     \u001b[38;5;28;01mfor\u001b[39;00m i \u001b[38;5;129;01min\u001b[39;00m \u001b[38;5;28mrange\u001b[39m(\u001b[38;5;28mint\u001b[39m(\u001b[38;5;28mself\u001b[39m\u001b[38;5;241m.\u001b[39mtime_span\u001b[38;5;241m/\u001b[39m\u001b[38;5;28mself\u001b[39m\u001b[38;5;241m.\u001b[39mtime_interval)): \u001b[38;5;28;43mself\u001b[39;49m\u001b[38;5;241;43m.\u001b[39;49m\u001b[43mone_step\u001b[49m\u001b[43m(\u001b[49m\u001b[43mi\u001b[49m\u001b[43m,\u001b[49m\u001b[43m \u001b[49m\u001b[43melems\u001b[49m\u001b[43m,\u001b[49m\u001b[43m \u001b[49m\u001b[43max\u001b[49m\u001b[43m)\u001b[49m\n\u001b[1;32m     44\u001b[0m \u001b[38;5;28;01melse\u001b[39;00m:\n\u001b[1;32m     45\u001b[0m     \u001b[38;5;28mself\u001b[39m\u001b[38;5;241m.\u001b[39mani \u001b[38;5;241m=\u001b[39m anm\u001b[38;5;241m.\u001b[39mFuncAnimation(fig, \u001b[38;5;28mself\u001b[39m\u001b[38;5;241m.\u001b[39mone_step, fargs\u001b[38;5;241m=\u001b[39m(elems, ax),\n\u001b[1;32m     46\u001b[0m                              frames\u001b[38;5;241m=\u001b[39m\u001b[38;5;28mint\u001b[39m(\u001b[38;5;28mself\u001b[39m\u001b[38;5;241m.\u001b[39mtime_span\u001b[38;5;241m/\u001b[39m\u001b[38;5;28mself\u001b[39m\u001b[38;5;241m.\u001b[39mtime_interval)\u001b[38;5;241m+\u001b[39m\u001b[38;5;241m1\u001b[39m, interval\u001b[38;5;241m=\u001b[39m\u001b[38;5;28mint\u001b[39m(\u001b[38;5;28mself\u001b[39m\u001b[38;5;241m.\u001b[39mtime_interval\u001b[38;5;241m*\u001b[39m\u001b[38;5;241m1000\u001b[39m), repeat\u001b[38;5;241m=\u001b[39m\u001b[38;5;28;01mFalse\u001b[39;00m)\n",
      "File \u001b[0;32m~/robotics/section_particle_filter/../scripts/ideal_robot_edit.py:55\u001b[0m, in \u001b[0;36mWorld.one_step\u001b[0;34m(self, i, elems, ax)\u001b[0m\n\u001b[1;32m     53\u001b[0m \u001b[38;5;66;03m#elems.append(ax.text(-4.4, 4.5, time_str,fontsize=10))\u001b[39;00m\n\u001b[1;32m     54\u001b[0m \u001b[38;5;28;01mfor\u001b[39;00m obj \u001b[38;5;129;01min\u001b[39;00m \u001b[38;5;28mself\u001b[39m\u001b[38;5;241m.\u001b[39mobjects:\n\u001b[0;32m---> 55\u001b[0m     \u001b[43mobj\u001b[49m\u001b[38;5;241;43m.\u001b[39;49m\u001b[43mdraw\u001b[49m\u001b[43m(\u001b[49m\u001b[43max\u001b[49m\u001b[43m,\u001b[49m\u001b[43m \u001b[49m\u001b[43melems\u001b[49m\u001b[43m)\u001b[49m\n\u001b[1;32m     56\u001b[0m     \u001b[38;5;28;01mif\u001b[39;00m \u001b[38;5;28mhasattr\u001b[39m(obj, \u001b[38;5;124m\"\u001b[39m\u001b[38;5;124mone_step\u001b[39m\u001b[38;5;124m\"\u001b[39m): obj\u001b[38;5;241m.\u001b[39mone_step(\u001b[38;5;28mself\u001b[39m\u001b[38;5;241m.\u001b[39mtime_interval)\n",
      "File \u001b[0;32m~/robotics/section_particle_filter/../scripts/ideal_robot_edit.py:160\u001b[0m, in \u001b[0;36mMap.draw\u001b[0;34m(self, ax, elems)\u001b[0m\n\u001b[1;32m    159\u001b[0m \u001b[38;5;28;01mdef\u001b[39;00m \u001b[38;5;21mdraw\u001b[39m(\u001b[38;5;28mself\u001b[39m, ax, elems):                 \u001b[38;5;66;03m# 描画（Landmarkのdrawを順に呼び出し）\u001b[39;00m\n\u001b[0;32m--> 160\u001b[0m     \u001b[38;5;28;01mfor\u001b[39;00m lm \u001b[38;5;129;01min\u001b[39;00m \u001b[38;5;28mself\u001b[39m\u001b[38;5;241m.\u001b[39mlandmarks: \u001b[43mlm\u001b[49m\u001b[38;5;241;43m.\u001b[39;49m\u001b[43mdraw\u001b[49m\u001b[43m(\u001b[49m\u001b[43max\u001b[49m\u001b[43m,\u001b[49m\u001b[43m \u001b[49m\u001b[43melems\u001b[49m\u001b[43m)\u001b[49m\n",
      "File \u001b[0;32m~/robotics/section_particle_filter/../scripts/ideal_robot_edit.py:127\u001b[0m, in \u001b[0;36mLandmark.draw\u001b[0;34m(self, ax, elems)\u001b[0m\n\u001b[1;32m    126\u001b[0m \u001b[38;5;28;01mdef\u001b[39;00m \u001b[38;5;21mdraw\u001b[39m(\u001b[38;5;28mself\u001b[39m, ax, elems):\n\u001b[0;32m--> 127\u001b[0m     c \u001b[38;5;241m=\u001b[39m ax\u001b[38;5;241m.\u001b[39mscatter(\u001b[38;5;28;43mself\u001b[39;49m\u001b[38;5;241;43m.\u001b[39;49m\u001b[43mpos\u001b[49m\u001b[43m[\u001b[49m\u001b[38;5;241;43m0\u001b[39;49m\u001b[43m]\u001b[49m, \u001b[38;5;28mself\u001b[39m\u001b[38;5;241m.\u001b[39mpos[\u001b[38;5;241m1\u001b[39m], s\u001b[38;5;241m=\u001b[39m\u001b[38;5;241m30\u001b[39m, marker\u001b[38;5;241m=\u001b[39m\u001b[38;5;124m\"\u001b[39m\u001b[38;5;124m*\u001b[39m\u001b[38;5;124m\"\u001b[39m, label\u001b[38;5;241m=\u001b[39m\u001b[38;5;124m\"\u001b[39m\u001b[38;5;124mlandmarks\u001b[39m\u001b[38;5;124m\"\u001b[39m, color\u001b[38;5;241m=\u001b[39m\u001b[38;5;124m\"\u001b[39m\u001b[38;5;124morange\u001b[39m\u001b[38;5;124m\"\u001b[39m)\n\u001b[1;32m    128\u001b[0m     elems\u001b[38;5;241m.\u001b[39mappend(c)\n\u001b[1;32m    129\u001b[0m     elems\u001b[38;5;241m.\u001b[39mappend(ax\u001b[38;5;241m.\u001b[39mtext(\u001b[38;5;28mself\u001b[39m\u001b[38;5;241m.\u001b[39mpos[\u001b[38;5;241m0\u001b[39m], \u001b[38;5;28mself\u001b[39m\u001b[38;5;241m.\u001b[39mpos[\u001b[38;5;241m1\u001b[39m], \u001b[38;5;124m\"\u001b[39m\u001b[38;5;124mid:\u001b[39m\u001b[38;5;124m\"\u001b[39m \u001b[38;5;241m+\u001b[39m \u001b[38;5;28mstr\u001b[39m(\u001b[38;5;28mself\u001b[39m\u001b[38;5;241m.\u001b[39mid), fontsize\u001b[38;5;241m=\u001b[39m\u001b[38;5;241m10\u001b[39m))\n",
      "\u001b[0;31mTypeError\u001b[0m: 'int' object is not subscriptable"
     ]
    }
   ],
   "source": [
    "def trial(): ###addmap （12-15行目のみ）\n",
    "    time_interval = 0.1\n",
    "    world = World(30, time_interval, debug=True) \n",
    "\n",
    "    ### 地図を生成して3つランドマークを追加 ###\n",
    "    m = Map()\n",
    "    for ln in [(-4,2), (2,-3), (3,3)]: m.append_landmark(Landmark(*ln))\n",
    "    world.append(m)          \n",
    "\n",
    "    ### ロボットを作る ###\n",
    "    initial_pose = np.array([0, 0, 0]).T\n",
    "    estimator = Mcl(m, initial_pose, 100) #地図mを渡す\n",
    "    a = EstimationAgent(time_interval, 0.2, 10.0/180*math.pi, estimator)\n",
    "    r = Robot(initial_pose, sensor=Camera(m), agent=a, color=\"red\")\n",
    "    world.append(r)\n",
    "\n",
    "    world.draw()\n",
    "    \n",
    "trial()"
   ]
  },
  {
   "cell_type": "code",
   "execution_count": null,
   "id": "61a136c9",
   "metadata": {},
   "outputs": [],
   "source": []
  }
 ],
 "metadata": {
  "kernelspec": {
   "display_name": "Python 3 (ipykernel)",
   "language": "python",
   "name": "python3"
  },
  "language_info": {
   "codemirror_mode": {
    "name": "ipython",
    "version": 3
   },
   "file_extension": ".py",
   "mimetype": "text/x-python",
   "name": "python",
   "nbconvert_exporter": "python",
   "pygments_lexer": "ipython3",
   "version": "3.10.9"
  }
 },
 "nbformat": 4,
 "nbformat_minor": 5
}
