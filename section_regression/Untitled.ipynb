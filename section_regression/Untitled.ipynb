{
 "cells": [
  {
   "cell_type": "code",
   "execution_count": 6,
   "id": "c1d08386",
   "metadata": {},
   "outputs": [
    {
     "name": "stdout",
     "output_type": "stream",
     "text": [
      "[52.0, 54.0, 56.0]\n",
      "[107.0, 111.0, 115.0]\n",
      "[12.0, 14.0, 16.0, 18.0, 20.0, 22.0, 24.0, 26.0, 28.0, 30.0, 32.0, 34.0, 36.0, 38.0, 40.0, 42.0, 44.0, 46.0, 48.0, 50.0]\n",
      "[27.0, 31.0, 35.0, 39.0, 43.0, 47.0, 51.0, 55.0, 59.0, 63.0, 67.0, 71.0, 75.0, 79.0, 83.0, 87.0, 91.0, 95.0, 99.0, 103.0]\n",
      "y = 3.00 + 2.00x\n",
      "[[107.]\n",
      " [111.]\n",
      " [115.]]\n",
      "[[213.]]\n",
      "1.0 1.0\n"
     ]
    }
   ],
   "source": [
    "from sklearn.linear_model import LinearRegression\n",
    "import numpy as np\n",
    "from sklearn.metrics import r2_score\n",
    "\n",
    "total_length = 30\n",
    "train_length = 15\n",
    "test_length = 3\n",
    "\n",
    "lr = LinearRegression()\n",
    "sensor_stuck = []\n",
    "sensor_stuck_train = []\n",
    "sensor_stuck_test = []\n",
    "\n",
    "t = np.zeros(total_length)\n",
    "t_train = []\n",
    "t_test = []\n",
    "dt = 2.0\n",
    "t[0] = 0\n",
    "\n",
    "for i in range(1,total_length ):\n",
    "    if i < train_length / 3 + 1:\n",
    "        a = t[i - 1] * 2 + 3\n",
    "        sensor_stuck.append(a)\n",
    "        sensor_stuck_train.append(a)\n",
    "        t[i] = t[i-1] + dt\n",
    "        t_train.append(t[i-1])\n",
    "        \n",
    "    elif i < train_length / 3 + test_length + 1:\n",
    "        a = t[i - 1]  * 2 + 3\n",
    "        sensor_stuck.append(a)\n",
    "        sensor_stuck_test.append(a)\n",
    "        t[i] = t[i-1] + dt\n",
    "        t_test.append(t[i-1])\n",
    "        \n",
    "        \n",
    "    elif i< train_length + test_length + 1:\n",
    "        a = t[i - 1]  * 2 + 3\n",
    "        sensor_stuck.append(a)\n",
    "        sensor_stuck_train.append(sensor_stuck_test[0])\n",
    "        sensor_stuck_test.pop(0)\n",
    "        sensor_stuck_test.append(a)\n",
    "        \n",
    "        t[i] = t[i-1] + dt\n",
    "        t_train.append(t_test[0])\n",
    "        t_test.pop(0)\n",
    "        t_test.append(t[i-1])\n",
    "        \n",
    "    elif i< train_length + test_length + train_length / 3 + 1: \n",
    "        a = t[i - 1]  * 2 + 3\n",
    "        sensor_stuck.append(a)\n",
    "        sensor_stuck_train.append(sensor_stuck_test[0])\n",
    "        sensor_stuck_test.pop(0)\n",
    "        sensor_stuck_test.append(a)\n",
    "        \n",
    "        t[i] = t[i-1] + dt\n",
    "        t_train.append(t_test[0])\n",
    "        t_test.pop(0)\n",
    "        t_test.append(t[i-1])        \n",
    "        \n",
    "    else:\n",
    "        a = t[i-1] * 2 + 3\n",
    "        sensor_stuck.append(a)\n",
    "        sensor_stuck_train.pop(0)\n",
    "        sensor_stuck_train.append(sensor_stuck_test[0])\n",
    "        sensor_stuck_test.pop(0)\n",
    "        sensor_stuck_test.append(a)\n",
    "        \n",
    "        t[i] = t[i-1]  + dt\n",
    "        t_train.pop(0)\n",
    "        t_train.append(t_test[0])\n",
    "        t_test.pop(0)\n",
    "        t_test.append(t[i-1])\n",
    "\n",
    "print(t_test)\n",
    "print(sensor_stuck_test)\n",
    "print(t_train)\n",
    "print(sensor_stuck_train)\n",
    "\n",
    "        \n",
    "X = np.array(t_train).reshape(-1, 1)\n",
    "y = np.array(sensor_stuck_train).reshape(-1, 1)\n",
    "\n",
    "X_test = np.array(t_test).reshape(-1,1)\n",
    "\n",
    "lr = LinearRegression()\n",
    "lr.fit(X, y)\n",
    "y_train_pred = lr.predict(X)\n",
    "y_test_pred = lr.predict(X_test)\n",
    "c = []\n",
    "c.append(105)\n",
    "s = np.array(c).reshape(-1,1)\n",
    "a = lr.predict(s)\n",
    "\n",
    "print(f\"y = {lr.intercept_[0]:.2f} + {lr.coef_[0][0]:.2f}x\")\n",
    "print(y_test_pred)\n",
    "print(a)\n",
    "\n",
    "y_test = np.array(sensor_stuck_test).reshape(-1,1)\n",
    "\n",
    "print(r2_score(y, y_train_pred),r2_score(y_test, y_test_pred))"
   ]
  },
  {
   "cell_type": "code",
   "execution_count": 45,
   "id": "566ea22d",
   "metadata": {},
   "outputs": [
    {
     "data": {
      "image/png": "[encoded data removed]",
      "text/plain": [
       "<Figure size 640x480 with 1 Axes>"
      ]
     },
     "metadata": {},
     "output_type": "display_data"
    }
   ],
   "source": [
    "import matplotlib.pyplot as plt\n",
    "plt.scatter(X,y, c='steelblue', s=70)\n",
    "plt.plot(X, lr.predict(X), color='black',lw=2)\n",
    "plt.ylim([0,120])\n",
    "plt.show()"
   ]
  },
  {
   "cell_type": "code",
   "execution_count": null,
   "id": "5ef26dcb",
   "metadata": {},
   "outputs": [],
   "source": [
    "num_rooms_std = sc_xtransform()"
   ]
  }
 ],
 "metadata": {
  "kernelspec": {
   "display_name": "Python 3 (ipykernel)",
   "language": "python",
   "name": "python3"
  },
  "language_info": {
   "codemirror_mode": {
    "name": "ipython",
    "version": 3
   },
   "file_extension": ".py",
   "mimetype": "text/x-python",
   "name": "python",
   "nbconvert_exporter": "python",
   "pygments_lexer": "ipython3",
   "version": "3.10.9"
  }
 },
 "nbformat": 4,
 "nbformat_minor": 5
}
