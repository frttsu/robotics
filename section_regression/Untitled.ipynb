{
 "cells": [
  {
   "cell_type": "code",
   "execution_count": 8,
   "id": "c1d08386",
   "metadata": {},
   "outputs": [
    {
     "name": "stdout",
     "output_type": "stream",
     "text": [
      "[30.0, 32.0, 34.0, 36.0, 38.0, 40.0, 42.0, 44.0, 46.0, 48.0, 50.0, 52.0, 54.0, 56.0, 58.0]\n",
      "[2, 2, 1, 7, 7, 5, 7, 4, 7, 4, 5, 1, 2, 5, 2]\n"
     ]
    },
    {
     "ename": "AttributeError",
     "evalue": "'list' object has no attribute 'reshape'",
     "output_type": "error",
     "traceback": [
      "\u001b[0;31m---------------------------------------------------------------------------\u001b[0m",
      "\u001b[0;31mAttributeError\u001b[0m                            Traceback (most recent call last)",
      "Cell \u001b[0;32mIn[8], line 33\u001b[0m\n\u001b[1;32m     31\u001b[0m \u001b[38;5;28mprint\u001b[39m(t_sub)\n\u001b[1;32m     32\u001b[0m \u001b[38;5;28mprint\u001b[39m(sensor_stuck_sub)\n\u001b[0;32m---> 33\u001b[0m T \u001b[38;5;241m=\u001b[39m \u001b[43mt_sub\u001b[49m\u001b[38;5;241;43m.\u001b[39;49m\u001b[43mreshape\u001b[49m((\u001b[38;5;28mlen\u001b[39m(t_sub),\u001b[38;5;241m1\u001b[39m))\n\u001b[1;32m     34\u001b[0m lr\u001b[38;5;241m.\u001b[39mfit(t_sub,sensor_stuck_sub)\n",
      "\u001b[0;31mAttributeError\u001b[0m: 'list' object has no attribute 'reshape'"
     ]
    }
   ],
   "source": [
    "from sklearn.linear_model import LinearRegression\n",
    "import numpy as np\n",
    "\n",
    "lr = LinearRegression()\n",
    "sensor_stuck = []\n",
    "sensor_stuck_sub = []\n",
    "length = 30\n",
    "t = np.zeros(length)\n",
    "t_sub = []\n",
    "dt = 2.0\n",
    "t[0] = 0.0\n",
    "stuck_length = 15\n",
    "rng = np.random.default_rng(23)\n",
    "\n",
    "for i in range(1,length):\n",
    "    if i < stuck_length + 1:\n",
    "        a = rng.integers(1,10)\n",
    "        sensor_stuck.append(a)\n",
    "        sensor_stuck_sub.append(a)\n",
    "        t[i] = t[i-1] + dt\n",
    "        t_sub.append(t[i])\n",
    "    else:\n",
    "        a = rng.integers(1,10)\n",
    "        sensor_stuck.append(a)\n",
    "        sensor_stuck_sub.pop(0)\n",
    "        sensor_stuck_sub.append(a)\n",
    "        t[i] = t[i-1] + dt\n",
    "        t_sub.pop(0)\n",
    "        t_sub.append(t[i])\n",
    "        \n",
    "print(t_sub)\n",
    "print(sensor_stuck_sub)\n",
    "T = t_sub.reshape((len(t_sub),1))\n",
    "lr.fit(t_sub,sensor_stuck_sub)"
   ]
  },
  {
   "cell_type": "code",
   "execution_count": null,
   "id": "566ea22d",
   "metadata": {},
   "outputs": [],
   "source": []
  }
 ],
 "metadata": {
  "kernelspec": {
   "display_name": "Python 3 (ipykernel)",
   "language": "python",
   "name": "python3"
  },
  "language_info": {
   "codemirror_mode": {
    "name": "ipython",
    "version": 3
   },
   "file_extension": ".py",
   "mimetype": "text/x-python",
   "name": "python",
   "nbconvert_exporter": "python",
   "pygments_lexer": "ipython3",
   "version": "3.10.9"
  }
 },
 "nbformat": 4,
 "nbformat_minor": 5
}
