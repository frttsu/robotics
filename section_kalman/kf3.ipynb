{
 "cells": [
  {
   "cell_type": "code",
   "execution_count": 1,
   "id": "80d33297",
   "metadata": {},
   "outputs": [],
   "source": [
    "import sys\n",
    "sys.path.append('../scripts/')\n",
    "from mcl import *\n",
    "from scipy.stats import multivariate_normal\n",
    "from matplotlib.patches import Ellipse"
   ]
  },
  {
   "cell_type": "code",
   "execution_count": 2,
   "id": "a6d7a9fd",
   "metadata": {},
   "outputs": [],
   "source": [
    "def sigma_ellipse(p, cov, n):  ###kf3calculation\n",
    "    eig_vals, eig_vec = np.linalg.eig(cov)\n",
    "    ang = math.atan2(eig_vec[:,0][1], eig_vec[:,0][0])/math.pi*180\n",
    "    return Ellipse(p, width=2*n*math.sqrt(eig_vals[0]),height=2*n*math.sqrt(eig_vals[1]), angle=ang, fill=False, color=\"blue\", alpha=0.5)\n",
    "\n",
    "def matM(nu, omega, time, stds):\n",
    "    return np.diag([stds[\"nn\"]**2*abs(nu)/time + stds[\"no\"]**2*abs(omega)/time, \n",
    "                               stds[\"on\"]**2*abs(nu)/time + stds[\"oo\"]**2*abs(omega)/time])\n",
    "    \n",
    "def matA(nu, omega, time, theta):\n",
    "    st, ct = math.sin(theta), math.cos(theta)\n",
    "    stw, ctw = math.sin(theta + omega*time), math.cos(theta + omega*time)\n",
    "    return np.array([[(stw - st)/omega,    -nu/(omega**2)*(stw - st) + nu/omega*time*ctw],\n",
    "                                 [(-ctw + ct)/omega, -nu/(omega**2)*(-ctw + ct) + nu/omega*time*stw],\n",
    "                                 [0,                                time]] )\n",
    "\n",
    "def matF(nu, omega, time, theta):\n",
    "    F = np.diag([1.0, 1.0, 1.0])\n",
    "    F[0, 2] = nu / omega * (math.cos(theta + omega * time) - math.cos(theta))\n",
    "    F[1, 2] = nu / omega * (math.sin(theta + omega * time) - math.sin(theta))\n",
    "    return F"
   ]
  },
  {
   "cell_type": "code",
   "execution_count": 3,
   "id": "4fc95d9a",
   "metadata": {},
   "outputs": [],
   "source": [
    "class KalmanFilter:   ###kfmotionupdate\n",
    "    def __init__(self, envmap, init_pose, motion_noise_stds={\"nn\":0.19, \"no\":0.001, \"on\":0.13, \"oo\":0.2}):\n",
    "        self.belief = multivariate_normal(mean=np.array([0.0, 0.0, 0.0]), cov=np.diag([1e-10, 1e-10, 1e-10]))\n",
    "        self.motion_noise_stds = motion_noise_stds #追加\n",
    "        self.pose = self.belief.mean\n",
    "\n",
    "    def observation_update(self, observation): \n",
    "        pass\n",
    "    \n",
    "    def motion_update(self, nu, omega, time): #追加\n",
    "        if abs(omega) < 1e-5: omega = 1e-5 #値が0になるとゼロ割りになって計算ができないのでわずかに値を持たせる\n",
    "\n",
    "        M = matM(nu, omega, time, self.motion_noise_stds)\n",
    "        A = matA(nu, omega, time, self.belief.mean[2])\n",
    "        F = matF(nu, omega, time, self.belief.mean[2])\n",
    "        self.belief.cov = F.dot(self.belief.cov).dot(F.T) + A.dot(M).dot(A.T)\n",
    "        self.belief.mean = IdealRobot.state_transition(nu, omega, time, self.belief.mean)\n",
    "        self.pose = self.belief.mean #他のクラスで使う\n",
    "\n",
    "    def draw(self, ax, elems):\n",
    "        ###xy平面上の誤差のnシグマ範囲###\n",
    "        e = sigma_ellipse(self.belief.mean[0:2], self.belief.cov[0:2, 0:2], 3)\n",
    "        elems.append(ax.add_patch(e))\n",
    "\n",
    "        ###θ方向の誤差の3シグマ範囲###\n",
    "        x, y, c = self.belief.mean\n",
    "        sigma3 = math.sqrt(self.belief.cov[2, 2])*3\n",
    "        xs = [x + math.cos(c-sigma3), x, x + math.cos(c+sigma3)]\n",
    "        ys = [y + math.sin(c-sigma3), y, y + math.sin(c+sigma3)]\n",
    "        elems += ax.plot(xs, ys, color=\"blue\", alpha=0.5)"
   ]
  },
  {
   "cell_type": "code",
   "execution_count": 7,
   "id": "3ffcc13c",
   "metadata": {},
   "outputs": [
    {
     "ename": "AttributeError",
     "evalue": "property 'cov' of 'multivariate_normal_frozen' object has no setter",
     "output_type": "error",
     "traceback": [
      "\u001b[1;31m---------------------------------------------------------------------------\u001b[0m",
      "\u001b[1;31mAttributeError\u001b[0m                            Traceback (most recent call last)",
      "Cell \u001b[1;32mIn[7], line 29\u001b[0m\n\u001b[0;32m     26\u001b[0m r \u001b[38;5;241m=\u001b[39m Robot(initial_pose, sensor\u001b[38;5;241m=\u001b[39mCamera(m), agent\u001b[38;5;241m=\u001b[39mright, color\u001b[38;5;241m=\u001b[39m\u001b[38;5;124m\"\u001b[39m\u001b[38;5;124mred\u001b[39m\u001b[38;5;124m\"\u001b[39m)\n\u001b[0;32m     27\u001b[0m world\u001b[38;5;241m.\u001b[39mappend(r)\n\u001b[1;32m---> 29\u001b[0m world\u001b[38;5;241m.\u001b[39mdraw()\n",
      "File \u001b[1;32m~\\robotics\\section_kalman\\../scripts\\ideal_robot.py:41\u001b[0m, in \u001b[0;36mWorld.draw\u001b[1;34m(self)\u001b[0m\n\u001b[0;32m     38\u001b[0m elems \u001b[38;5;241m=\u001b[39m []\n\u001b[0;32m     40\u001b[0m \u001b[38;5;28;01mif\u001b[39;00m \u001b[38;5;28mself\u001b[39m\u001b[38;5;241m.\u001b[39mdebug:        \n\u001b[1;32m---> 41\u001b[0m     \u001b[38;5;28;01mfor\u001b[39;00m i \u001b[38;5;129;01min\u001b[39;00m \u001b[38;5;28mrange\u001b[39m(\u001b[38;5;28mint\u001b[39m(\u001b[38;5;28mself\u001b[39m\u001b[38;5;241m.\u001b[39mtime_span\u001b[38;5;241m/\u001b[39m\u001b[38;5;28mself\u001b[39m\u001b[38;5;241m.\u001b[39mtime_interval)): \u001b[38;5;28mself\u001b[39m\u001b[38;5;241m.\u001b[39mone_step(i, elems, ax)\n\u001b[0;32m     42\u001b[0m \u001b[38;5;28;01melse\u001b[39;00m:\n\u001b[0;32m     43\u001b[0m     \u001b[38;5;28mself\u001b[39m\u001b[38;5;241m.\u001b[39mani \u001b[38;5;241m=\u001b[39m anm\u001b[38;5;241m.\u001b[39mFuncAnimation(fig, \u001b[38;5;28mself\u001b[39m\u001b[38;5;241m.\u001b[39mone_step, fargs\u001b[38;5;241m=\u001b[39m(elems, ax),\n\u001b[0;32m     44\u001b[0m                              frames\u001b[38;5;241m=\u001b[39m\u001b[38;5;28mint\u001b[39m(\u001b[38;5;28mself\u001b[39m\u001b[38;5;241m.\u001b[39mtime_span\u001b[38;5;241m/\u001b[39m\u001b[38;5;28mself\u001b[39m\u001b[38;5;241m.\u001b[39mtime_interval)\u001b[38;5;241m+\u001b[39m\u001b[38;5;241m1\u001b[39m, interval\u001b[38;5;241m=\u001b[39m\u001b[38;5;28mint\u001b[39m(\u001b[38;5;28mself\u001b[39m\u001b[38;5;241m.\u001b[39mtime_interval\u001b[38;5;241m*\u001b[39m\u001b[38;5;241m1000\u001b[39m), repeat\u001b[38;5;241m=\u001b[39m\u001b[38;5;28;01mFalse\u001b[39;00m)\n",
      "File \u001b[1;32m~\\robotics\\section_kalman\\../scripts\\ideal_robot.py:53\u001b[0m, in \u001b[0;36mWorld.one_step\u001b[1;34m(self, i, elems, ax)\u001b[0m\n\u001b[0;32m     51\u001b[0m \u001b[38;5;28;01mfor\u001b[39;00m obj \u001b[38;5;129;01min\u001b[39;00m \u001b[38;5;28mself\u001b[39m\u001b[38;5;241m.\u001b[39mobjects:\n\u001b[0;32m     52\u001b[0m     obj\u001b[38;5;241m.\u001b[39mdraw(ax, elems)\n\u001b[1;32m---> 53\u001b[0m     \u001b[38;5;28;01mif\u001b[39;00m \u001b[38;5;28mhasattr\u001b[39m(obj, \u001b[38;5;124m\"\u001b[39m\u001b[38;5;124mone_step\u001b[39m\u001b[38;5;124m\"\u001b[39m): obj\u001b[38;5;241m.\u001b[39mone_step(\u001b[38;5;28mself\u001b[39m\u001b[38;5;241m.\u001b[39mtime_interval)\n",
      "File \u001b[1;32m~\\robotics\\section_kalman\\../scripts\\robot.py:73\u001b[0m, in \u001b[0;36mRobot.one_step\u001b[1;34m(self, time_interval)\u001b[0m\n\u001b[0;32m     71\u001b[0m \u001b[38;5;28;01mif\u001b[39;00m \u001b[38;5;129;01mnot\u001b[39;00m \u001b[38;5;28mself\u001b[39m\u001b[38;5;241m.\u001b[39magent: \u001b[38;5;28;01mreturn\u001b[39;00m\n\u001b[0;32m     72\u001b[0m obs \u001b[38;5;241m=\u001b[39m\u001b[38;5;28mself\u001b[39m\u001b[38;5;241m.\u001b[39msensor\u001b[38;5;241m.\u001b[39mdata(\u001b[38;5;28mself\u001b[39m\u001b[38;5;241m.\u001b[39mpose) \u001b[38;5;28;01mif\u001b[39;00m \u001b[38;5;28mself\u001b[39m\u001b[38;5;241m.\u001b[39msensor \u001b[38;5;28;01melse\u001b[39;00m \u001b[38;5;28;01mNone\u001b[39;00m\n\u001b[1;32m---> 73\u001b[0m nu, omega \u001b[38;5;241m=\u001b[39m \u001b[38;5;28mself\u001b[39m\u001b[38;5;241m.\u001b[39magent\u001b[38;5;241m.\u001b[39mdecision(obs)\n\u001b[0;32m     74\u001b[0m nu, omega \u001b[38;5;241m=\u001b[39m \u001b[38;5;28mself\u001b[39m\u001b[38;5;241m.\u001b[39mbias(nu, omega)\n\u001b[0;32m     75\u001b[0m nu, omega \u001b[38;5;241m=\u001b[39m \u001b[38;5;28mself\u001b[39m\u001b[38;5;241m.\u001b[39mstuck(nu, omega, time_interval)\n",
      "File \u001b[1;32m~\\robotics\\section_kalman\\../scripts\\mcl.py:114\u001b[0m, in \u001b[0;36mEstimationAgent.decision\u001b[1;34m(self, observation)\u001b[0m\n\u001b[0;32m    113\u001b[0m \u001b[38;5;28;01mdef\u001b[39;00m \u001b[38;5;21mdecision\u001b[39m(\u001b[38;5;28mself\u001b[39m, observation\u001b[38;5;241m=\u001b[39m\u001b[38;5;28;01mNone\u001b[39;00m): \n\u001b[1;32m--> 114\u001b[0m     \u001b[38;5;28mself\u001b[39m\u001b[38;5;241m.\u001b[39mestimator\u001b[38;5;241m.\u001b[39mmotion_update(\u001b[38;5;28mself\u001b[39m\u001b[38;5;241m.\u001b[39mprev_nu, \u001b[38;5;28mself\u001b[39m\u001b[38;5;241m.\u001b[39mprev_omega, \u001b[38;5;28mself\u001b[39m\u001b[38;5;241m.\u001b[39mtime_interval)\n\u001b[0;32m    115\u001b[0m     \u001b[38;5;28mself\u001b[39m\u001b[38;5;241m.\u001b[39mprev_nu, \u001b[38;5;28mself\u001b[39m\u001b[38;5;241m.\u001b[39mprev_omega \u001b[38;5;241m=\u001b[39m \u001b[38;5;28mself\u001b[39m\u001b[38;5;241m.\u001b[39mnu, \u001b[38;5;28mself\u001b[39m\u001b[38;5;241m.\u001b[39momega\n\u001b[0;32m    116\u001b[0m     \u001b[38;5;28mself\u001b[39m\u001b[38;5;241m.\u001b[39mestimator\u001b[38;5;241m.\u001b[39mobservation_update(observation)\n",
      "Cell \u001b[1;32mIn[3], line 16\u001b[0m, in \u001b[0;36mKalmanFilter.motion_update\u001b[1;34m(self, nu, omega, time)\u001b[0m\n\u001b[0;32m     14\u001b[0m A \u001b[38;5;241m=\u001b[39m matA(nu, omega, time, \u001b[38;5;28mself\u001b[39m\u001b[38;5;241m.\u001b[39mbelief\u001b[38;5;241m.\u001b[39mmean[\u001b[38;5;241m2\u001b[39m])\n\u001b[0;32m     15\u001b[0m F \u001b[38;5;241m=\u001b[39m matF(nu, omega, time, \u001b[38;5;28mself\u001b[39m\u001b[38;5;241m.\u001b[39mbelief\u001b[38;5;241m.\u001b[39mmean[\u001b[38;5;241m2\u001b[39m])\n\u001b[1;32m---> 16\u001b[0m \u001b[38;5;28mself\u001b[39m\u001b[38;5;241m.\u001b[39mbelief\u001b[38;5;241m.\u001b[39mcov \u001b[38;5;241m=\u001b[39m F\u001b[38;5;241m.\u001b[39mdot(\u001b[38;5;28mself\u001b[39m\u001b[38;5;241m.\u001b[39mbelief\u001b[38;5;241m.\u001b[39mcov)\u001b[38;5;241m.\u001b[39mdot(F\u001b[38;5;241m.\u001b[39mT) \u001b[38;5;241m+\u001b[39m A\u001b[38;5;241m.\u001b[39mdot(M)\u001b[38;5;241m.\u001b[39mdot(A\u001b[38;5;241m.\u001b[39mT)\n\u001b[0;32m     17\u001b[0m \u001b[38;5;28mself\u001b[39m\u001b[38;5;241m.\u001b[39mbelief\u001b[38;5;241m.\u001b[39mmean \u001b[38;5;241m=\u001b[39m IdealRobot\u001b[38;5;241m.\u001b[39mstate_transition(nu, omega, time, \u001b[38;5;28mself\u001b[39m\u001b[38;5;241m.\u001b[39mbelief\u001b[38;5;241m.\u001b[39mmean)\n\u001b[0;32m     18\u001b[0m \u001b[38;5;28mself\u001b[39m\u001b[38;5;241m.\u001b[39mpose \u001b[38;5;241m=\u001b[39m \u001b[38;5;28mself\u001b[39m\u001b[38;5;241m.\u001b[39mbelief\u001b[38;5;241m.\u001b[39mmean\n",
      "\u001b[1;31mAttributeError\u001b[0m: property 'cov' of 'multivariate_normal_frozen' object has no setter"
     ]
    }
   ],
   "source": [
    "if __name__ == '__main__': \n",
    "    time_interval = 0.1\n",
    "    world = World(30, time_interval, debug=True) \n",
    "\n",
    "    ### 地図を生成して3つランドマークを追加 ###\n",
    "    m = Map()                                  \n",
    "    m.append_landmark(Landmark(-4,2))\n",
    "    m.append_landmark(Landmark(2,-3))\n",
    "    m.append_landmark(Landmark(3,3))\n",
    "    world.append(m)          \n",
    "\n",
    "    ### ロボットを作る ###\n",
    "    initial_pose = np.array([0, 0, 0]).T\n",
    "    kf = KalmanFilter(m, initial_pose)\n",
    "    circling = EstimationAgent(time_interval, 0.2, 10.0/180*math.pi, kf)\n",
    "    r = Robot(initial_pose, sensor=Camera(m), agent=circling, color=\"red\")\n",
    "    world.append(r)\n",
    "    \n",
    "    kf = KalmanFilter(m, initial_pose)\n",
    "    linear = EstimationAgent(time_interval, 0.1, 0.0, kf)\n",
    "    r = Robot(initial_pose, sensor=Camera(m), agent=linear, color=\"red\")\n",
    "    world.append(r)\n",
    "    \n",
    "    kf = KalmanFilter(m, initial_pose)\n",
    "    right = EstimationAgent(time_interval, 0.1, -3.0/180*math.pi, kf)\n",
    "    r = Robot(initial_pose, sensor=Camera(m), agent=right, color=\"red\")\n",
    "    world.append(r)\n",
    "\n",
    "    world.draw()\n",
    "    "
   ]
  },
  {
   "cell_type": "code",
   "execution_count": null,
   "id": "7d9806c9",
   "metadata": {},
   "outputs": [],
   "source": []
  },
  {
   "cell_type": "code",
   "execution_count": null,
   "id": "f24c8975",
   "metadata": {},
   "outputs": [],
   "source": []
  }
 ],
 "metadata": {
  "kernelspec": {
   "display_name": "Python 3 (ipykernel)",
   "language": "python",
   "name": "python3"
  },
  "language_info": {
   "codemirror_mode": {
    "name": "ipython",
    "version": 3
   },
   "file_extension": ".py",
   "mimetype": "text/x-python",
   "name": "python",
   "nbconvert_exporter": "python",
   "pygments_lexer": "ipython3",
   "version": "3.11.4"
  }
 },
 "nbformat": 4,
 "nbformat_minor": 5
}
