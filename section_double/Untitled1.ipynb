{
 "cells": [
  {
   "cell_type": "code",
   "execution_count": 1,
   "id": "0fc480ae",
   "metadata": {},
   "outputs": [],
   "source": [
    "import sys\n",
    "sys.path.append('../scripts/')\n",
    "from mcl_edit import *"
   ]
  },
  {
   "cell_type": "code",
   "execution_count": null,
   "id": "a6c6fec3",
   "metadata": {},
   "outputs": [],
   "source": [
    "time_interval = 0.1\n",
    "world = World(60, time_interval, debug = False)\n",
    "\n",
    "m = Map()\n",
    "straight = Agent(1,0)\n",
    "initial_pose = np.array([-200,200,-math.pi / 2]).T\n",
    "initial_pose_1 = np.array([-200,-200,0]).T\n",
    "initial_pose_3 = np.array([-200,-200,math.pi]).T\n",
    "initial_pose_4 = np.array([200,-200,math.pi / 2]).T\n",
    "m.append_landmark(Landmark(initial_pose,agent=straight))\n",
    "m.append_landmark(Landmark(initial_pose_1, agent = straight))\n",
    "m.append_landmark(Landmark(initial_pose_3, agent = straight))\n",
    "m.append_landmark(Landmark(initial_pose_4, agent = straight))\n",
    "world.append(m)    \n",
    "\n",
    "initial_pose_2 = np.array([-250,-250,math.pi / 4 ]).T\n",
    "estimator2 = Mcl(m,initial_pose_2,100)\n",
    "b = EstimationAgent(time_interval, 1,0,estimator2)\n",
    "r_2 = Robot(initial_pose_2 , sensor = Camera(m),agent = b, color = \"blue\")\n",
    "world.append(r_2)    \n",
    "r_3 = IdealRobot(initial_pose_2, sensor=IdealCamera(m), agent=straight, color=\"red\") \n",
    "world.append(r_3)\n",
    "world.draw()\n"
   ]
  }
 ],
 "metadata": {
  "kernelspec": {
   "display_name": "Python 3 (ipykernel)",
   "language": "python",
   "name": "python3"
  },
  "language_info": {
   "codemirror_mode": {
    "name": "ipython",
    "version": 3
   },
   "file_extension": ".py",
   "mimetype": "text/x-python",
   "name": "python",
   "nbconvert_exporter": "python",
   "pygments_lexer": "ipython3",
   "version": "3.10.9"
  }
 },
 "nbformat": 4,
 "nbformat_minor": 5
}
